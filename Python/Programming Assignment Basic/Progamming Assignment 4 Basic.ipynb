{
 "cells": [
  {
   "cell_type": "markdown",
   "id": "4f263c03",
   "metadata": {},
   "source": [
    "Write a Python Program to Find the Factorial of a Number?"
   ]
  },
  {
   "cell_type": "code",
   "execution_count": 1,
   "id": "378cc80f",
   "metadata": {},
   "outputs": [
    {
     "name": "stdout",
     "output_type": "stream",
     "text": [
      "Enter the number 10\n",
      "Factorial of 10 is 3628800.\n"
     ]
    }
   ],
   "source": [
    "number = int(input(\"Enter the number \"))\n",
    "x = 1\n",
    "for i in range(1,number+1):\n",
    "    x = i * x\n",
    "print(f\"Factorial of {number} is {x}.\")"
   ]
  },
  {
   "cell_type": "markdown",
   "id": "16430ac1",
   "metadata": {},
   "source": [
    "Write a Python Program to Display the multiplication Table?"
   ]
  },
  {
   "cell_type": "code",
   "execution_count": 2,
   "id": "b45241be",
   "metadata": {},
   "outputs": [
    {
     "name": "stdout",
     "output_type": "stream",
     "text": [
      "Enter the number 9\n",
      "9 x 1 = 9\n",
      "9 x 2 = 18\n",
      "9 x 3 = 27\n",
      "9 x 4 = 36\n",
      "9 x 5 = 45\n",
      "9 x 6 = 54\n",
      "9 x 7 = 63\n",
      "9 x 8 = 72\n",
      "9 x 9 = 81\n",
      "9 x 10 = 90\n"
     ]
    }
   ],
   "source": [
    "num = int(input(\"Enter the number \"))\n",
    "for i in range(1,11):\n",
    "    print(f\"{num} x {i} = {num*i}\")"
   ]
  },
  {
   "cell_type": "markdown",
   "id": "9d8aa6b0",
   "metadata": {},
   "source": [
    "Write a Python Program to Print the Fibonacci sequence?"
   ]
  },
  {
   "cell_type": "code",
   "execution_count": 3,
   "id": "d0d91398",
   "metadata": {},
   "outputs": [
    {
     "name": "stdout",
     "output_type": "stream",
     "text": [
      "Enter the number of terms 7\n",
      "0 1 1 2 3 5 8 "
     ]
    }
   ],
   "source": [
    "n = 0\n",
    "m = 1\n",
    "f = int(input(\"Enter the number of terms \"))\n",
    "if f>2:\n",
    "    print(\"0 1\",end=\" \")\n",
    "    for i in range(f-2):\n",
    "        x = n + m\n",
    "        n = m\n",
    "        m = x\n",
    "        print(x,end=\" \")\n",
    "else:\n",
    "    if f == 2:\n",
    "        print(\"0 1\")\n",
    "    elif f == 1:\n",
    "        print(\"0\")\n",
    "    else:\n",
    "        print(\"Not possible\")"
   ]
  },
  {
   "cell_type": "markdown",
   "id": "80f84a2c",
   "metadata": {},
   "source": [
    "Write a Python Program to Check Armstrong Number?"
   ]
  },
  {
   "cell_type": "code",
   "execution_count": 3,
   "id": "a25bd4f9",
   "metadata": {},
   "outputs": [
    {
     "name": "stdout",
     "output_type": "stream",
     "text": [
      "Enter the number 1634\n",
      "It is Armstrong Number\n"
     ]
    }
   ],
   "source": [
    "x = input(\"Enter the number \")\n",
    "sum = 0\n",
    "for i in range(len(x)):\n",
    "    sum += (int(x[i]))**(len(x))\n",
    "if sum == int(x) :\n",
    "    print(\"It is Armstrong Number\")\n",
    "else:\n",
    "    print(\"Not Armstrong Number\")"
   ]
  },
  {
   "cell_type": "markdown",
   "id": "d5a2e3f7",
   "metadata": {},
   "source": [
    "Write a Python Program to Find Armstrong Number in an Interval?"
   ]
  },
  {
   "cell_type": "code",
   "execution_count": 6,
   "id": "e224a95d",
   "metadata": {},
   "outputs": [
    {
     "name": "stdout",
     "output_type": "stream",
     "text": [
      "start of the interval 100\n",
      "end of the interval 2000\n",
      "153\n",
      "370\n",
      "371\n",
      "407\n",
      "1634\n"
     ]
    }
   ],
   "source": [
    "def armstrong(x):\n",
    "    \"\"\"Check if a number is Armstrong Number or not\"\"\"\n",
    "    sum = 0\n",
    "    for i in range(len(x)):\n",
    "        sum += (int(x[i]))** len(x)\n",
    "    if sum == int(x) :\n",
    "        print(x)\n",
    "lower = int(input(\"start of the interval \"))\n",
    "upper = int(input(\"end of the interval \"))\n",
    "for i in range(lower,upper+1):\n",
    "    armstrong(str(i))"
   ]
  },
  {
   "cell_type": "markdown",
   "id": "48eb889e",
   "metadata": {},
   "source": [
    "Write a Python Program to Find the Sum of Natural Numbers?"
   ]
  },
  {
   "cell_type": "code",
   "execution_count": 7,
   "id": "086f0516",
   "metadata": {},
   "outputs": [
    {
     "name": "stdout",
     "output_type": "stream",
     "text": [
      "Enter the number of natural number to sum 10\n",
      "The Sum of Natural Numbers is 55\n"
     ]
    }
   ],
   "source": [
    "n = int(input(\"Enter the number of natural number to sum \"))\n",
    "sum = n*(n+1)//2\n",
    "print(\"The Sum of Natural Numbers is\",sum)"
   ]
  }
 ],
 "metadata": {
  "kernelspec": {
   "display_name": "Python 3 (ipykernel)",
   "language": "python",
   "name": "python3"
  },
  "language_info": {
   "codemirror_mode": {
    "name": "ipython",
    "version": 3
   },
   "file_extension": ".py",
   "mimetype": "text/x-python",
   "name": "python",
   "nbconvert_exporter": "python",
   "pygments_lexer": "ipython3",
   "version": "3.8.10"
  }
 },
 "nbformat": 4,
 "nbformat_minor": 5
}
