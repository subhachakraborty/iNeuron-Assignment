{
 "cells": [
  {
   "cell_type": "markdown",
   "id": "d6b046c4",
   "metadata": {},
   "source": [
    "1.Write a Python program to convert kilometers to miles?"
   ]
  },
  {
   "cell_type": "code",
   "execution_count": 28,
   "id": "24981294",
   "metadata": {},
   "outputs": [
    {
     "name": "stdout",
     "output_type": "stream",
     "text": [
      "Enter the distance in kilometer 10\n",
      "The distance in miles is 6.21371\n"
     ]
    }
   ],
   "source": [
    "km = float(input(\"Enter the distance in kilometer \"))\n",
    "mile = km * 0.621371\n",
    "print(\"The distance in miles is\",mile)"
   ]
  },
  {
   "cell_type": "markdown",
   "id": "975158a6",
   "metadata": {},
   "source": [
    "2.Write a Python program to convert Celsius to Fahrenheit?"
   ]
  },
  {
   "cell_type": "code",
   "execution_count": 29,
   "id": "01d12f28",
   "metadata": {},
   "outputs": [
    {
     "name": "stdout",
     "output_type": "stream",
     "text": [
      "Enter the temperature in Celsius 10\n",
      "Temperature in Farenheit is  50.0\n"
     ]
    }
   ],
   "source": [
    "Celsius = float(input(\"Enter the temperature in Celsius \"))\n",
    "Farenheit = (9/5)*Celsius + 32\n",
    "print(\"Temperature in Farenheit is \",Farenheit)"
   ]
  },
  {
   "cell_type": "markdown",
   "id": "b5b6049b",
   "metadata": {},
   "source": [
    "3.Write a Python program to display calendar?"
   ]
  },
  {
   "cell_type": "code",
   "execution_count": 30,
   "id": "9caf0180",
   "metadata": {},
   "outputs": [
    {
     "name": "stdout",
     "output_type": "stream",
     "text": [
      "Enter the year 2021\n",
      "Enter the month 12\n",
      "\n",
      "    December 2021\n",
      "Mo Tu We Th Fr Sa Su\n",
      "       1  2  3  4  5\n",
      " 6  7  8  9 10 11 12\n",
      "13 14 15 16 17 18 19\n",
      "20 21 22 23 24 25 26\n",
      "27 28 29 30 31\n",
      "\n"
     ]
    }
   ],
   "source": [
    "import calendar\n",
    "Year = int(input(\"Enter the year \"))\n",
    "Month = int(input(\"Enter the month \"))\n",
    "print(\"\\n\",calendar.month(Year,Month))"
   ]
  },
  {
   "cell_type": "markdown",
   "id": "e67dc2d2",
   "metadata": {},
   "source": [
    "4.Write a Python program to solve quadratic equation?"
   ]
  },
  {
   "cell_type": "code",
   "execution_count": 31,
   "id": "726db188",
   "metadata": {},
   "outputs": [
    {
     "name": "stdout",
     "output_type": "stream",
     "text": [
      "Enter co-efficient of x^2 1\n",
      "Enter co-efficient of x -2\n",
      "Enter constant term 1\n",
      "The roots are 1.0 and 1.0\n"
     ]
    }
   ],
   "source": [
    "a = float(input(\"Enter co-efficient of x^2 \"))\n",
    "b = float(input(\"Enter co-efficient of x \"))\n",
    "c = float(input(\"Enter constant term \"))\n",
    "root1 = (-b+((b ** 2) - 4*a*c ** 0.5))/(2*a)\n",
    "root2 = (-b-((b ** 2) - 4*a*c ** 0.5))/(2*a)\n",
    "print(f\"The roots are {root1} and {root2}\")"
   ]
  },
  {
   "cell_type": "markdown",
   "id": "3db16acd",
   "metadata": {},
   "source": [
    "5.Write a Python program to swap two variables without temp variable?"
   ]
  },
  {
   "cell_type": "code",
   "execution_count": 32,
   "id": "eb2fd083",
   "metadata": {},
   "outputs": [
    {
     "name": "stdout",
     "output_type": "stream",
     "text": [
      "Enter the first variable 0\n",
      "Enter the second variable 1\n",
      "a is 0 and b is 1\n",
      "a is 1 and b is 0\n"
     ]
    }
   ],
   "source": [
    "a = input(\"Enter the first variable \")\n",
    "b = input(\"Enter the second variable \")\n",
    "print(f\"a is {a} and b is {b}\")\n",
    "a,b = b,a\n",
    "print(f\"a is {a} and b is {b}\")"
   ]
  }
 ],
 "metadata": {
  "kernelspec": {
   "display_name": "Python 3 (ipykernel)",
   "language": "python",
   "name": "python3"
  },
  "language_info": {
   "codemirror_mode": {
    "name": "ipython",
    "version": 3
   },
   "file_extension": ".py",
   "mimetype": "text/x-python",
   "name": "python",
   "nbconvert_exporter": "python",
   "pygments_lexer": "ipython3",
   "version": "3.9.6"
  }
 },
 "nbformat": 4,
 "nbformat_minor": 5
}
