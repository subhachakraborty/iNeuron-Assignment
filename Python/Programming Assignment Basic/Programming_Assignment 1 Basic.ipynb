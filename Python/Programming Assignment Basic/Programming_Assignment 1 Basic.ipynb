{
 "cells": [
  {
   "cell_type": "markdown",
   "id": "c87ee446",
   "metadata": {},
   "source": [
    "1.Write a Python program to print \"Hello Python\"?"
   ]
  },
  {
   "cell_type": "code",
   "execution_count": 19,
   "id": "08aac950",
   "metadata": {},
   "outputs": [
    {
     "name": "stdout",
     "output_type": "stream",
     "text": [
      "Hello Python\n"
     ]
    }
   ],
   "source": [
    "print(\"Hello Python\")"
   ]
  },
  {
   "cell_type": "markdown",
   "id": "937fa4c3",
   "metadata": {},
   "source": [
    "2.Write a Python program to do arithmetical operations addition and division.?"
   ]
  },
  {
   "cell_type": "code",
   "execution_count": 20,
   "id": "fe55a718",
   "metadata": {},
   "outputs": [
    {
     "name": "stdout",
     "output_type": "stream",
     "text": [
      "Enter a number 100\n",
      "Enter a number again 6\n",
      "Addition result is 106.0 and division result is 16.666666666666668\n"
     ]
    }
   ],
   "source": [
    "input1 = float(input(\"Enter a number \"))\n",
    "input2 = float(input(\"Enter a number again \"))\n",
    "print(f\"Addition result is {input1+input2} and division result is {input1/input2}\")"
   ]
  },
  {
   "cell_type": "markdown",
   "id": "00aac9a7",
   "metadata": {},
   "source": [
    "3.Write a Python program to find the area of a triangle?"
   ]
  },
  {
   "cell_type": "code",
   "execution_count": 21,
   "id": "37839063",
   "metadata": {},
   "outputs": [
    {
     "name": "stdout",
     "output_type": "stream",
     "text": [
      "Enter a side 1 50\n",
      "Enter a side 2 51\n",
      "Enter a side 3 52\n",
      "The area of the triangle is 1125.3996790029753\n"
     ]
    }
   ],
   "source": [
    "x = float(input(\"Enter a side 1 \"))\n",
    "y = float(input(\"Enter a side 2 \"))\n",
    "z = float(input(\"Enter a side 3 \"))\n",
    "s = (x+y+z)/2\n",
    "area = (s*(s-x)*(s-y)*(s-z))**0.5\n",
    "print(f\"The area of the triangle is {area}\")"
   ]
  },
  {
   "cell_type": "markdown",
   "id": "2241cc78",
   "metadata": {},
   "source": [
    "4.Write a Python program to swap two variables?"
   ]
  },
  {
   "cell_type": "code",
   "execution_count": 22,
   "id": "7ecfe694",
   "metadata": {},
   "outputs": [
    {
     "name": "stdout",
     "output_type": "stream",
     "text": [
      "Enter the value of x 10\n",
      "Enter the value of y 50\n",
      "Value of x is 50 and Value of y is 10\n"
     ]
    }
   ],
   "source": [
    "x = input(\"Enter the value of x \")\n",
    "y = input(\"Enter the value of y \")\n",
    "t = x\n",
    "x = y\n",
    "y = t\n",
    "print(\"Value of x is {} and Value of y is {}\".format(x,y))"
   ]
  },
  {
   "cell_type": "markdown",
   "id": "4caa2ed8",
   "metadata": {},
   "source": [
    "5.Write a Python program to generate a random number?"
   ]
  },
  {
   "cell_type": "code",
   "execution_count": 23,
   "id": "c669364f",
   "metadata": {},
   "outputs": [
    {
     "name": "stdout",
     "output_type": "stream",
     "text": [
      "Enter the lower limit 10\n",
      "Enter upper limit 55\n",
      "A random number between 10 and 55 is 46\n"
     ]
    }
   ],
   "source": [
    "import random\n",
    "x1 = int(input(\"Enter the lower limit \"))\n",
    "y1 = int(input(\"Enter upper limit \"))\n",
    "print(\"A random number between {} and {} is\".format(x1,y1),random.randint(x1,y1))"
   ]
  }
 ],
 "metadata": {
  "kernelspec": {
   "display_name": "Python 3 (ipykernel)",
   "language": "python",
   "name": "python3"
  },
  "language_info": {
   "codemirror_mode": {
    "name": "ipython",
    "version": 3
   },
   "file_extension": ".py",
   "mimetype": "text/x-python",
   "name": "python",
   "nbconvert_exporter": "python",
   "pygments_lexer": "ipython3",
   "version": "3.9.6"
  },
  "widgets": {
   "application/vnd.jupyter.widget-state+json": {
    "state": {},
    "version_major": 2,
    "version_minor": 0
   }
  }
 },
 "nbformat": 4,
 "nbformat_minor": 5
}
